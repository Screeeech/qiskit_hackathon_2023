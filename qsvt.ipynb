{
 "cells": [
  {
   "cell_type": "code",
   "execution_count": 297,
   "metadata": {},
   "outputs": [],
   "source": [
    "# Importing the necessary libraries\n",
    "import numpy as np\n",
    "from numpy import pi\n",
    "import matplotlib.pyplot as plt\n",
    "\n",
    "# Importing standard Qiskit libraries\n",
    "from qiskit import *\n",
    "from qiskit.quantum_info import Statevector\n",
    "from qiskit.tools.jupyter import *\n",
    "from qiskit.visualization import *\n",
    "\n",
    "from fable import fable\n",
    "from qiskit import Aer\n",
    "from qiskit.circuit.library import PauliEvolutionGate\n",
    "from qiskit.opflow import I, Z, X\n",
    "import pyqsp"
   ]
  },
  {
   "cell_type": "markdown",
   "metadata": {},
   "source": [
    "# Hamiltonian Estimation\n",
    "\n",
    "We begin doing hamiltonian estimation by setting up the form of the hamiltonian for a two qubit quantum Ising model."
   ]
  },
  {
   "cell_type": "code",
   "execution_count": 298,
   "metadata": {},
   "outputs": [],
   "source": [
    "from qiskit.quantum_info import SparsePauliOp\n",
    "from math import sin, cos\n",
    "\n",
    "def get_hamiltonian(L, J, h, alpha=0):\n",
    "    \n",
    "    # List of Hamiltonian terms as 3-tuples containing\n",
    "    # (1) the Pauli string,\n",
    "    # (2) the qubit indices corresponding to the Pauli string,\n",
    "    # (3) the coefficient.\n",
    "    ZZ_tuples = [('ZZ', [i, i + 1], -J) for i in range(0, L-1)]\n",
    "    Z_tuples = [('Z', [i], -h * sin(alpha)) for i in range(0, L)]\n",
    "    X_tuples = [('X', [i], -h * cos(alpha)) for i in range(0, L)]\n",
    "\n",
    "    # We create the Hamiltonian as a SparsePauliOp, via the method\n",
    "    # `from_sparse_list`, and multiply by the interaction term.\n",
    "    hamiltonian = SparsePauliOp.from_sparse_list([*ZZ_tuples, *Z_tuples, *X_tuples], num_qubits=L)\n",
    "    return hamiltonian.simplify()"
   ]
  },
  {
   "cell_type": "code",
   "execution_count": 299,
   "metadata": {},
   "outputs": [
    {
     "data": {
      "text/plain": [
       "array([[-0.965+0.j, -0.924+0.j, -0.924+0.j, -0.   +0.j],\n",
       "       [-0.924+0.j,  0.2  +0.j, -0.   +0.j, -0.924+0.j],\n",
       "       [-0.924+0.j, -0.   +0.j,  0.2  +0.j, -0.924+0.j],\n",
       "       [-0.   +0.j, -0.924+0.j, -0.924+0.j,  0.565+0.j]])"
      ]
     },
     "execution_count": 299,
     "metadata": {},
     "output_type": "execute_result"
    }
   ],
   "source": [
    "from math import pi\n",
    "np.set_printoptions(precision=3)\n",
    "\n",
    "H = get_hamiltonian(L=2, J=.2, h=1., alpha=pi/8).to_matrix()\n",
    "scale = np.ceil(np.linalg.norm(H))\n",
    "H_dag = H.conj().T\n",
    "\n",
    "H"
   ]
  },
  {
   "cell_type": "markdown",
   "metadata": {},
   "source": [
    "Notice that the Hamiltonian is real Hermitian, althought our work works for any general Hamiltonian!"
   ]
  },
  {
   "cell_type": "markdown",
   "metadata": {},
   "source": [
    "# The first step is to find a block encoding of $H$ \n",
    "this is achieved by using the Fable library while we will be doing the block encoding for $\\exp(-i H t)$ ourselves"
   ]
  },
  {
   "cell_type": "code",
   "execution_count": 300,
   "metadata": {},
   "outputs": [],
   "source": [
    "simulator = Aer.get_backend(\"unitary_simulator\")\n",
    "\n",
    "\n",
    "# generate a random matrix and block encode it\n",
    "N = 4\n",
    "circ, alpha = fable(H, 0)\n",
    "result = simulator.run(circ).result()\n",
    "unitary = result.get_unitary(circ)\n",
    "np.linalg.norm(alpha * N * unitary.data[0:N, 0:N] - H)/np.linalg.norm(H)\n",
    "\n",
    "U_gate = circ.to_gate()\n",
    "U_gate.name = \"U\""
   ]
  },
  {
   "cell_type": "code",
   "execution_count": 301,
   "metadata": {},
   "outputs": [],
   "source": [
    "# reverse the circuit elements\n",
    "circ_rev = circ.reverse_ops()\n",
    "U_dag = circ_rev.to_gate()\n",
    "U_dag.name = \"U_dag\""
   ]
  },
  {
   "cell_type": "code",
   "execution_count": 302,
   "metadata": {},
   "outputs": [],
   "source": [
    "def S1(t):\n",
    "    circuit = QuantumCircuit(3)\n",
    "    circuit.x([1,2])\n",
    "    circuit.ccx(1,2,0)\n",
    "    # circuit.cx([1,2],0)\n",
    "    circuit.x([1,2])\n",
    "\n",
    "    evo = PauliEvolutionGate(Z, time=t)\n",
    "    circuit.append(evo, [0])\n",
    "\n",
    "    circuit.x([1,2])\n",
    "    circuit.ccx(1,2,0)\n",
    "    # circuit.cx([1,2],0)\n",
    "    circuit.x([1,2])\n",
    "\n",
    "    S1_gate = circuit.to_gate()\n",
    "    S1_gate.name = \"S1,\"+str(t)\n",
    "    return S1_gate\n",
    "\n",
    "\n",
    "def S2(t1, t2):\n",
    "    circuit = QuantumCircuit(4)\n",
    "    circuit.x([2,3])\n",
    "    circuit.ccx(2, 3, 1)\n",
    "    # circuit.cx([2,3],1)\n",
    "    circuit.x([2,3])\n",
    "\n",
    "    evo1 = PauliEvolutionGate(Z, time=t1).control(1)\n",
    "    circuit.x(1)\n",
    "    circuit.append(evo1, [0,1])\n",
    "    circuit.x(1)\n",
    "\n",
    "    evo2 = PauliEvolutionGate(Z, time=t2).control(1)\n",
    "    circuit.append(evo2, [0,1])\n",
    "    circuit.x([2,3])\n",
    "    circuit.ccx(2,3,1)\n",
    "    # circuit.cx([2,3],1)\n",
    "    circuit.x([2,3])\n",
    "\n",
    "    S2_gate = circuit.to_gate()\n",
    "    S2_gate.name = \"S2,\"+str(t1)+\",\"+str(t2)\n",
    "\n",
    "    return S2_gate\n"
   ]
  },
  {
   "cell_type": "code",
   "execution_count": 303,
   "metadata": {},
   "outputs": [
    {
     "name": "stdout",
     "output_type": "stream",
     "text": [
      "146\n",
      "Completion part finished within time  1.1026005744934082\n",
      "Decomposition part finished within time  0.29811906814575195\n",
      "Final error = 4.5002293486072454e-05\n"
     ]
    }
   ],
   "source": [
    "# from pyqsp import *\n",
    "from scipy.special import jn\n",
    "import numpy\n",
    "import time\n",
    "from pyqsp import angle_sequence\n",
    "# import poly\n",
    "\n",
    "\n",
    "def hamiltonian_coefficients(tau, eps):\n",
    "    n = 2*int(numpy.e / 4 * tau - numpy.log(eps) / 2)\n",
    "    print(n)\n",
    "    return jn(numpy.arange(-n, n + 1, 1), tau)\n",
    "\n",
    "def ham_sim(tau, eps, suc):\n",
    "    t = time.time()\n",
    "    a = hamiltonian_coefficients(tau, eps / 10)\n",
    "    return angle_sequence.angle_sequence(a, .9 * eps, suc), time.time()-t\n",
    "\n",
    "a = ham_sim(100, 1e-4, 1-1e-4)[0]"
   ]
  },
  {
   "cell_type": "code",
   "execution_count": 304,
   "metadata": {},
   "outputs": [
    {
     "data": {
      "text/plain": [
       "293"
      ]
     },
     "execution_count": 304,
     "metadata": {},
     "output_type": "execute_result"
    }
   ],
   "source": [
    "len(a)"
   ]
  },
  {
   "cell_type": "code",
   "execution_count": 305,
   "metadata": {},
   "outputs": [],
   "source": [
    "circ = QuantumCircuit(7)\n",
    "circ.h(range(2))\n",
    "\n",
    "for i in range(len(a)-2, -1, -2):\n",
    "    circ.append(S2(a[i], a[i+1]), range(4))\n",
    "    circ.append(U_dag, range(2,7))\n",
    "\n",
    "control_u = U_gate.control(1)\n",
    "circ.data.pop()\n",
    "circ.append(control_u, [0,2,3,4,5,6])\n",
    "\n",
    "circ.x([2,3])\n",
    "circ.ccx(2, 3, 1)\n",
    "circ.x([2,3])\n",
    "\n",
    "evo2 = PauliEvolutionGate(Z, time=a[0]).control(1)\n",
    "circ.append(evo2, [0,1])\n",
    "circ.x([2,3])\n",
    "circ.ccx(2,3,1)\n",
    "circ.x([2,3])\n",
    "\n",
    "circ.p(-pi/2, 0)\n",
    "circ.h([0,1])\n",
    "\n",
    "U_exp = circ.to_gate()\n",
    "U_exp.name = \"U_exp\"\n",
    "\n",
    "circ.reverse_ops()\n",
    "U_exp_dag = circ.to_gate()\n",
    "U_exp_dag.name = \"U_exp_dag\"\n"
   ]
  },
  {
   "cell_type": "markdown",
   "metadata": {},
   "source": [
    "# What did we do here?\n",
    "\n",
    "The cells above found the block encoding of $\\kappa \\exp(-i H t)/2$ which is not exactly what we want and isn't so trivial to translate into $\\exp(-i H t)$. To remedy this, we will need something called amplitude amplification. The specific algorithm we will use is called Oblivious Amplitude Amplification"
   ]
  },
  {
   "cell_type": "code",
   "execution_count": 306,
   "metadata": {},
   "outputs": [
    {
     "name": "stderr",
     "output_type": "stream",
     "text": [
      "/home/hasith/anaconda3/lib/python3.10/site-packages/qiskit/visualization/circuit/matplotlib.py:266: FutureWarning: The default matplotlib drawer scheme will be changed to \"iqp\" in a following release. To silence this warning, specify the current default explicitly as style=\"clifford\", or the new default as style=\"iqp\".\n",
      "  self._style, def_font_ratio = load_style(self._style)\n"
     ]
    }
   ],
   "source": [
    "phi_oaa = [-2*pi/2, pi/2, pi/2, pi/2]\n",
    "circ = QuantumCircuit(8)\n",
    "circ.append(S1(phi_oaa[3]), [3,4,0])\n",
    "circ.append(U_exp, range(1,8))\n",
    "circ.append(S1(phi_oaa[2]), [3,4,0])\n",
    "circ.append(U_exp_dag, range(1,8))\n",
    "circ.append(S1(phi_oaa[1]), [3,4,0])\n",
    "circ.append(U_exp, range(1,8))\n",
    "circ.append(S1(phi_oaa[0]), [3,4,0])\n",
    "circ.x(0)\n",
    "circ.z(0)\n",
    "circ.x(0)\n",
    "circ.draw(\"mpl\")\n",
    "\n",
    "time_evolve_gate = circ.to_gate()\n",
    "time_evolve_gate.name = \"time_evolve_gate\""
   ]
  },
  {
   "cell_type": "markdown",
   "metadata": {},
   "source": [
    "# The Final (Condensed) Result\n",
    "\n",
    "Now that we have the final block encoding, we can simply act on the circuit with it to gather measurments"
   ]
  },
  {
   "cell_type": "code",
   "execution_count": 307,
   "metadata": {},
   "outputs": [
    {
     "data": {
      "image/png": "[encoded data removed]",
      "text/plain": [
       "<Figure size 1165.66x785.944 with 1 Axes>"
      ]
     },
     "execution_count": 307,
     "metadata": {},
     "output_type": "execute_result"
    }
   ],
   "source": [
    "circ = QuantumCircuit(8)\n",
    "circ.append(time_evolve_gate, range(8))\n",
    "circ.measure_all()\n",
    "\n",
    "circ.draw(\"mpl\")"
   ]
  },
  {
   "cell_type": "code",
   "execution_count": 308,
   "metadata": {},
   "outputs": [
    {
     "name": "stdout",
     "output_type": "stream",
     "text": [
      "[0.625 0.125 0.125 0.125]\n"
     ]
    }
   ],
   "source": [
    "import numpy as np\n",
    "from qiskit import QuantumCircuit\n",
    "from qiskit.quantum_info import random_unitary, Statevector\n",
    "\n",
    "qc = QuantumCircuit(8)\n",
    "statevec = Statevector(qc)\n",
    "statevec.seed(value=42)\n",
    "\n",
    "qc.reset(0)\n",
    "qc.append(time_evolve_gate, range(8))\n",
    "p0_p1 = statevec.evolve(qc).probabilities(qargs=[3,4]) \n",
    "print(p0_p1)"
   ]
  },
  {
   "cell_type": "markdown",
   "metadata": {},
   "source": [
    "# Application to Ising Model\n",
    "\n",
    "Now we can see which states of the Ising Model are most likely given our particular choice of hamiltonian, which allows to compute things like specific heat capacity and average magnetiziation"
   ]
  },
  {
   "cell_type": "code",
   "execution_count": 310,
   "metadata": {},
   "outputs": [
    {
     "data": {
      "text/plain": [
       "Text(0.5, 1.0, 'Probabilities for each state in two atom Ising model')"
      ]
     },
     "execution_count": 310,
     "metadata": {},
     "output_type": "execute_result"
    },
    {
     "data": {
      "image/png": "[encoded data removed]",
      "text/plain": [
       "<Figure size 640x480 with 1 Axes>"
      ]
     },
     "metadata": {},
     "output_type": "display_data"
    }
   ],
   "source": [
    "# plot barchart of probabilities\n",
    "import matplotlib.pyplot as plt\n",
    "plt.bar(['00', '01', '10', '11'], p0_p1)\n",
    "plt.title('Probabilities for each state in two atom Ising model')"
   ]
  },
  {
   "cell_type": "code",
   "execution_count": null,
   "metadata": {},
   "outputs": [],
   "source": []
  }
 ],
 "metadata": {
  "kernelspec": {
   "display_name": "base",
   "language": "python",
   "name": "python3"
  },
  "language_info": {
   "codemirror_mode": {
    "name": "ipython",
    "version": 3
   },
   "file_extension": ".py",
   "mimetype": "text/x-python",
   "name": "python",
   "nbconvert_exporter": "python",
   "pygments_lexer": "ipython3",
   "version": "3.10.9"
  }
 },
 "nbformat": 4,
 "nbformat_minor": 2
}
